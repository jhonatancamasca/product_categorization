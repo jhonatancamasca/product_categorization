{
  "nbformat": 4,
  "nbformat_minor": 0,
  "metadata": {
    "colab": {
      "provenance": []
    },
    "kernelspec": {
      "name": "python3",
      "display_name": "Python 3"
    },
    "language_info": {
      "name": "python"
    }
  },
  "cells": [
    {
      "cell_type": "code",
      "execution_count": null,
      "metadata": {
        "id": "vYqLNqIF8O-g"
      },
      "outputs": [],
      "source": [
        "from src.utils.data_utils import DataHandler\n",
        "from src.models import EfficientNetClassifier\n",
        "from src.training.train import Trainer\n",
        "from sc.evaluation.eval import Evaluator\n",
        "from src.utils.plot_utils import Plotter\n",
        "import torch\n",
        "import torch.nn as nn\n",
        "import torch.optim as optim"
      ]
    },
    {
      "cell_type": "markdown",
      "source": [
        "# Define paths and parameters"
      ],
      "metadata": {
        "id": "fbZIv2gd8rgE"
      }
    },
    {
      "cell_type": "code",
      "source": [
        "data_root = '/content/Categories'\n",
        "batch_size = 32\n",
        "split_ratio = 0.8\n",
        "num_epochs = 20"
      ],
      "metadata": {
        "id": "ZwX3F4Gd8SpS"
      },
      "execution_count": null,
      "outputs": []
    },
    {
      "cell_type": "markdown",
      "source": [
        "# Load the dataset"
      ],
      "metadata": {
        "id": "3XbO3a108uPg"
      }
    },
    {
      "cell_type": "code",
      "source": [
        "data_handler = DataHandler(data_root=data_root, batch_size=batch_size, split_ratio=split_ratio)\n",
        "train_loader, test_loader = data_handler.load_dataset()"
      ],
      "metadata": {
        "id": "p65d5nEe8VSd"
      },
      "execution_count": null,
      "outputs": []
    },
    {
      "cell_type": "markdown",
      "source": [
        "# Define the model architecture"
      ],
      "metadata": {
        "id": "GC5N5T8c8xru"
      }
    },
    {
      "cell_type": "code",
      "source": [
        "num_classes = 122\n",
        "model = EfficientNetClassifier(num_classes=num_classes)"
      ],
      "metadata": {
        "id": "cwvFeCyR8Yrk"
      },
      "execution_count": null,
      "outputs": []
    },
    {
      "cell_type": "markdown",
      "source": [
        "# Train the model"
      ],
      "metadata": {
        "id": "HbjOXCJq8yrH"
      }
    },
    {
      "cell_type": "code",
      "source": [
        "criterion = nn.CrossEntropyLoss()\n",
        "optimizer = optim.Adam(model.parameters(), lr=0.001)\n",
        "trainer = Trainer(model=model, train_loader=train_loader)\n",
        "train_loss_history, train_acc_history = trainer.train(num_epochs=num_epochs, criterion=criterion, optimizer=optimizer)"
      ],
      "metadata": {
        "id": "wN6YgwiB8aH8"
      },
      "execution_count": null,
      "outputs": []
    },
    {
      "cell_type": "markdown",
      "source": [
        "# Evaluate the model"
      ],
      "metadata": {
        "id": "Kjz6mHDS8154"
      }
    },
    {
      "cell_type": "code",
      "source": [
        "evaluator = Evaluator(model=model, dataloader=test_loader)\n",
        "evaluator.evaluate_model()"
      ],
      "metadata": {
        "id": "C3LZQnal8eJv"
      },
      "execution_count": null,
      "outputs": []
    },
    {
      "cell_type": "markdown",
      "source": [
        "# Save the trained model"
      ],
      "metadata": {
        "id": "T8EExdIM83YQ"
      }
    },
    {
      "cell_type": "code",
      "source": [
        "torch.save(model.state_dict(), '/content/drive/MyDrive/FINAL_PROJECT_ANYONE/models/efficientnet_b1_model.pth')"
      ],
      "metadata": {
        "id": "zVktFGY98jXQ"
      },
      "execution_count": null,
      "outputs": []
    },
    {
      "cell_type": "markdown",
      "source": [
        "# Plot the training history"
      ],
      "metadata": {
        "id": "EABHPdBY85mA"
      }
    },
    {
      "cell_type": "code",
      "source": [
        "plotter = Plotter()\n",
        "plotter.plot_history(train_loss_history, train_acc_history, num_epochs)\n"
      ],
      "metadata": {
        "id": "A1xZ2mJE8lsq"
      },
      "execution_count": null,
      "outputs": []
    }
  ]
}