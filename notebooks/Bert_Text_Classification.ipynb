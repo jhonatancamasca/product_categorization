{
  "nbformat": 4,
  "nbformat_minor": 0,
  "metadata": {
    "colab": {
      "provenance": []
    },
    "kernelspec": {
      "name": "python3",
      "display_name": "Python 3"
    },
    "language_info": {
      "name": "python"
    }
  },
  "cells": [
    {
      "cell_type": "code",
      "execution_count": null,
      "metadata": {
        "id": "H1mNzYeDDlAv"
      },
      "outputs": [],
      "source": [
        "import torch\n",
        "import torch.nn as nn\n",
        "import torch.optim as optim\n",
        "from data_utils import load_data_and_preprocess, create_data_loaders\n",
        "from model_utils import BertClassifier\n",
        "from train_utils import BERTTrainer\n",
        "from evaluate_utils import BERTEvaluator\n",
        "from plot_utils import Plotter"
      ]
    },
    {
      "cell_type": "code",
      "source": [
        "data_file = '/content/drive/MyDrive/ANYONE PROYECTO FINAL/grouped_data.csv'\n",
        "column_name = 'full_description'\n",
        "max_length = 128\n",
        "batch_size = 32\n",
        "num_epochs = 10\n",
        "num_labels = 122"
      ],
      "metadata": {
        "id": "h7DTIRTRD6Al"
      },
      "execution_count": null,
      "outputs": []
    },
    {
      "cell_type": "markdown",
      "source": [
        "# Load the data and preprocess"
      ],
      "metadata": {
        "id": "hy9A-iNmEAGI"
      }
    },
    {
      "cell_type": "code",
      "source": [
        "dataset = load_data_and_preprocess(data_file, column_name, max_length)"
      ],
      "metadata": {
        "id": "c_h59lDdD_DS"
      },
      "execution_count": null,
      "outputs": []
    },
    {
      "cell_type": "markdown",
      "source": [
        " # Create data loaders"
      ],
      "metadata": {
        "id": "Ejny16OcECbO"
      }
    },
    {
      "cell_type": "code",
      "source": [
        "train_loader, test_loader = create_data_loaders(dataset, batch_size)"
      ],
      "metadata": {
        "id": "mjn9s1M8EDi_"
      },
      "execution_count": null,
      "outputs": []
    },
    {
      "cell_type": "markdown",
      "source": [
        "# Create the BERT-based classifier model"
      ],
      "metadata": {
        "id": "LpNe2vkSEJLt"
      }
    },
    {
      "cell_type": "code",
      "source": [
        "model = BertClassifier(num_labels=num_labels)"
      ],
      "metadata": {
        "id": "vSuISi0uEHsB"
      },
      "execution_count": null,
      "outputs": []
    },
    {
      "cell_type": "markdown",
      "source": [
        "# Train the model"
      ],
      "metadata": {
        "id": "hJLCYmzAEMuZ"
      }
    },
    {
      "cell_type": "code",
      "source": [
        "criterion = nn.CrossEntropyLoss()\n",
        "optimizer = optim.AdamW(model.parameters(), lr=2e-5)\n",
        "\n",
        "trainer = BERTTrainer(model=model, train_loader=train_loader)\n",
        "train_loss_history, train_acc_history = trainer.train(num_epochs=num_epochs, criterion=criterion, optimizer=optimizer)"
      ],
      "metadata": {
        "id": "mY7dQIroEOh-"
      },
      "execution_count": null,
      "outputs": []
    },
    {
      "cell_type": "markdown",
      "source": [
        "# Evaluate the model"
      ],
      "metadata": {
        "id": "n4IvfplXERY2"
      }
    },
    {
      "cell_type": "code",
      "source": [
        "evaluator = BERTEvaluator(model=model, dataloader=test_loader)\n",
        "evaluator.evaluate_model()"
      ],
      "metadata": {
        "id": "wQFg6Am7ESoV"
      },
      "execution_count": null,
      "outputs": []
    },
    {
      "cell_type": "markdown",
      "source": [
        "# Plot the training history"
      ],
      "metadata": {
        "id": "H-2krE8HEUkZ"
      }
    },
    {
      "cell_type": "code",
      "source": [
        "plotter = Plotter()\n",
        "plotter.plot_history(train_loss_history, train_acc_history, num_epochs)"
      ],
      "metadata": {
        "id": "Q74PzovVEV_j"
      },
      "execution_count": null,
      "outputs": []
    },
    {
      "cell_type": "markdown",
      "source": [
        "# Save the trained model"
      ],
      "metadata": {
        "id": "TBJZe4s3EX7I"
      }
    },
    {
      "cell_type": "code",
      "source": [
        "torch.save(model.state_dict(), '/content/drive/MyDrive/ANYONE PROYECTO FINAL/bert_classification_model.pth')"
      ],
      "metadata": {
        "id": "NvlrTpnjEZOo"
      },
      "execution_count": null,
      "outputs": []
    }
  ]
}